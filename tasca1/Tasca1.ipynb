{
 "cells": [
  {
   "attachments": {
    "image-2.png": {
     "image/png": "[encoded data removed]"
    }
   },
   "cell_type": "markdown",
   "metadata": {},
   "source": [
    "# Tasca 1\n",
    "## Jupyter Notebook i Markdown\n",
    "### By Gabriel De Santis\n",
    "\n",
    "**Exercici 3**\n",
    "\n",
    "Provem a crear:\n",
    "\n",
    "* Títols\n",
    "* _Llistes_\n",
    "* **_Canviar l'estil de la lletra_**\n",
    "\n",
    "* ![image-2.png](attachment:image-2.png)"
   ]
  },
  {
   "cell_type": "code",
   "execution_count": 19,
   "metadata": {},
   "outputs": [
    {
     "name": "stdout",
     "output_type": "stream",
     "text": [
      "El doble de la variable 1 és igual a 10\n",
      "5\n",
      " leirbaG se erbmon ym ,aloH\n",
      "¡Hemos encontrado una o!\n",
      "¡Hemos encontrado una o!\n",
      "False\n",
      "HOLA, MY NOMBRE ES GABRIEL \n",
      "Hola,$my$nombre$es$Gabriel$\n",
      "Gabriel\n",
      "Var2 no es un integer\n"
     ]
    }
   ],
   "source": [
    "#Exercici 2: Utilitzant Jupyter Notebook executa alguns càlculs senzills\n",
    "\n",
    "var1 = 5 #crear variables\n",
    "\n",
    "print('El doble de la variable 1 és igual a', var1 * 2) #Operacions matemàtiques\n",
    "\n",
    "var1_str = str(var1) #transformar amb càsting\n",
    "print(var1_str)\n",
    "\n",
    "#tècniques amb strings\n",
    "var2 = \"Hola, my nombre es Gabriel \"\n",
    "print(var2[::-1])\n",
    "for i in var2:\n",
    "    if i=='o': \n",
    "        print(\"¡Hemos encontrado una o!\")\n",
    "print(\"Cervantes\" in var2)\n",
    "print(var2.upper())\n",
    "print(var2.replace(\" \", \"$\"))\n",
    "print(var2.split(\" \")[4])\n",
    "\n",
    "#booleans\n",
    "var3 = isinstance(var2, int)\n",
    "if var3 == False:\n",
    "    print(\"Var2 no es un integer\")\n"
   ]
  }
 ],
 "metadata": {
  "kernelspec": {
   "display_name": "Python 3",
   "language": "python",
   "name": "python3"
  },
  "language_info": {
   "codemirror_mode": {
    "name": "ipython",
    "version": 3
   },
   "file_extension": ".py",
   "mimetype": "text/x-python",
   "name": "python",
   "nbconvert_exporter": "python",
   "pygments_lexer": "ipython3",
   "version": "3.8.5"
  }
 },
 "nbformat": 4,
 "nbformat_minor": 4
}
